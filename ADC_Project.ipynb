{
  "nbformat": 4,
  "nbformat_minor": 0,
  "metadata": {
    "colab": {
      "name": "ADC Project.ipynb",
      "provenance": [],
      "collapsed_sections": [],
      "include_colab_link": true
    },
    "kernelspec": {
      "display_name": "Python 3",
      "name": "python3"
    },
    "language_info": {
      "name": "python"
    }
  },
  "cells": [
    {
      "cell_type": "markdown",
      "metadata": {
        "id": "view-in-github",
        "colab_type": "text"
      },
      "source": [
        "<a href=\"https://colab.research.google.com/github/sakshikorpade/Digital-Communication-System/blob/main/ADC_Project.ipynb\" target=\"_parent\"><img src=\"https://colab.research.google.com/assets/colab-badge.svg\" alt=\"Open In Colab\"/></a>"
      ]
    },
    {
      "cell_type": "code",
      "metadata": {
        "id": "PVMKOdqA8L8R"
      },
      "source": [
        "import numpy as np\n",
        "import matplotlib.pyplot as plt\n",
        "import math\n",
        "from numpy import trapz\n",
        "\n",
        "from numpy import sum,isrealobj,sqrt\n",
        "from numpy.random import standard_normal\n",
        "from scipy.special import erfc #erfc/Q function\n",
        "from itertools import islice"
      ],
      "execution_count": null,
      "outputs": []
    },
    {
      "cell_type": "code",
      "metadata": {
        "id": "PSwdsoU57v3Q"
      },
      "source": [
        "# Function to plot Graph:\n",
        "\n",
        "def plot_graph(value):\n",
        "  \n",
        "  plt.plot(t,value)\n",
        "  plt.xlabel(\"time\")\n",
        "  plt.ylabel(\"Amplitude\")\n",
        "  plt.show()"
      ],
      "execution_count": null,
      "outputs": []
    },
    {
      "cell_type": "code",
      "metadata": {
        "id": "XmRt7HwN8TRn",
        "colab": {
          "base_uri": "https://localhost:8080/",
          "height": 243
        },
        "outputId": "61a5e4db-831b-4af6-cab9-12c6b7bd59d2"
      },
      "source": [
        "\n",
        "file = open(\"test.txt\",\"r\")\n",
        "data=file.read()\n",
        "print(data)\n",
        "uncompressed_size=len(data)\n",
        "no_need_chars=[\".\",\",\",\"-\",\"1\",\"8\",\"3\",\"9\",\"5\",\"(\",\")\",\"\\n\"]\n",
        "for i in no_need_chars :\n",
        "    data = data.replace(i, '')\n",
        "\n",
        "#data=\"Sakshi\"\n",
        "compressed_size=len(data)\n",
        "file.close() \n",
        "\n"
      ],
      "execution_count": null,
      "outputs": [
        {
          "output_type": "error",
          "ename": "FileNotFoundError",
          "evalue": "ignored",
          "traceback": [
            "\u001b[0;31m---------------------------------------------------------------------------\u001b[0m",
            "\u001b[0;31mFileNotFoundError\u001b[0m                         Traceback (most recent call last)",
            "\u001b[0;32m<ipython-input-3-ab02b22c7940>\u001b[0m in \u001b[0;36m<module>\u001b[0;34m()\u001b[0m\n\u001b[1;32m      1\u001b[0m \u001b[0;34m\u001b[0m\u001b[0m\n\u001b[0;32m----> 2\u001b[0;31m \u001b[0mfile\u001b[0m \u001b[0;34m=\u001b[0m \u001b[0mopen\u001b[0m\u001b[0;34m(\u001b[0m\u001b[0;34m\"test.txt\"\u001b[0m\u001b[0;34m,\u001b[0m\u001b[0;34m\"r\"\u001b[0m\u001b[0;34m)\u001b[0m\u001b[0;34m\u001b[0m\u001b[0;34m\u001b[0m\u001b[0m\n\u001b[0m\u001b[1;32m      3\u001b[0m \u001b[0mdata\u001b[0m\u001b[0;34m=\u001b[0m\u001b[0mfile\u001b[0m\u001b[0;34m.\u001b[0m\u001b[0mread\u001b[0m\u001b[0;34m(\u001b[0m\u001b[0;34m)\u001b[0m\u001b[0;34m\u001b[0m\u001b[0;34m\u001b[0m\u001b[0m\n\u001b[1;32m      4\u001b[0m \u001b[0mprint\u001b[0m\u001b[0;34m(\u001b[0m\u001b[0mdata\u001b[0m\u001b[0;34m)\u001b[0m\u001b[0;34m\u001b[0m\u001b[0;34m\u001b[0m\u001b[0m\n\u001b[1;32m      5\u001b[0m \u001b[0muncompressed_size\u001b[0m\u001b[0;34m=\u001b[0m\u001b[0mlen\u001b[0m\u001b[0;34m(\u001b[0m\u001b[0mdata\u001b[0m\u001b[0;34m)\u001b[0m\u001b[0;34m\u001b[0m\u001b[0;34m\u001b[0m\u001b[0m\n",
            "\u001b[0;31mFileNotFoundError\u001b[0m: [Errno 2] No such file or directory: 'test.txt'"
          ]
        }
      ]
    },
    {
      "cell_type": "code",
      "metadata": {
        "id": "VMQwiXLOx38E"
      },
      "source": [
        "compression_ratio= uncompressed_size/compressed_size\n",
        "print(\"uncompressed_size:\")\n",
        "print(uncompressed_size)\n",
        "print(\"compressed_size:\")\n",
        "print(compressed_size)\n",
        "print(\"compression_ratio:\")\n",
        "print(compression_ratio)"
      ],
      "execution_count": null,
      "outputs": []
    },
    {
      "cell_type": "code",
      "metadata": {
        "id": "ccBXbo-cXA-r"
      },
      "source": [
        "def source_encoder(data):\n",
        "\n",
        "   A=\" abcdefghijklmnopqrstuvwxyzABCDEFGHIJKLMNOPQRSTUVWXYZ***********\"\n",
        "   B=[[0,0,0,0,0,0],[0,0,0,0,0,1],[0,0,0,0,1,0],[0,0,0,0,1,1],[0,0,0,1,0,0],[0,0,0,1,0,1],[0,0,0,1,1,0],[0,0,0,1,1,1],[0,0,1,0,0,0],[0,0,1,0,0,1],[0,0,1,0,1,0],[0,0,1,0,1,1],[0,0,1,1,0,0],[0,0,1,1,0,1],[0,0,1,1,1,0],[0,0,1,1,1,1],[0,1,0,0,0,0],[0,1,0,0,0,1],[0,1,0,0,1,0],[0,1,0,0,1,1],[0,1,0,1,0,0],[0,1,0,1,0,1],[0,1,0,1,1,0],[0,1,0,1,1,1],[0,1,1,0,0,0],[0,1,1,0,0,1],[0,1,1,0,1,0],[0,1,1,0,1,1],[0,1,1,1,0,0],[0,1,1,1,0,1],[0,1,1,1,1,0],[0,1,1,1,1,1],[1,0,0,0,0,0],[1,0,0,0,0,1],[1,0,0,0,1,0],[1,0,0,0,1,1],[1,0,0,1,0,0],[1,0,0,1,0,1],[1,0,0,1,1,0],[1,0,0,1,1,1],[1,0,1,0,0,0],[1,0,1,0,0,1],[1,0,1,0,1,0],[1,0,1,0,1,1],[1,0,1,1,0,0],[1,0,1,1,0,1],[1,0,1,1,1,0],[1,0,1,1,1,1],[1,1,0,0,0,0],[1,1,0,0,0,1],[1,1,0,0,1,0],[1,1,0,0,1,1],[1,1,0,1,0,0],[1,1,0,1,0,1],[1,1,0,1,1,0],[1,1,0,1,1,1],[1,1,1,0,0,0],[1,1,1,0,0,1],[1,1,1,0,1,0],[1,1,1,0,1,1],[1,1,1,1,0,0],[1,1,1,1,0,1],[1,1,1,1,1,0],[1,1,1,1,1,1]]\n",
        "   \n",
        "   encode=np.array([])\n",
        "   for i in data:\n",
        "    for j in range(len(A)):\n",
        "      if i==A[j]:\n",
        "         en=B[j]\n",
        "         encode=np.append(encode,en)\n",
        "   return encode\n",
        "\n",
        "source_encoded_data=source_encoder(data)\n",
        "print(source_encoded_data)\n"
      ],
      "execution_count": null,
      "outputs": []
    },
    {
      "cell_type": "code",
      "metadata": {
        "id": "nEFbgKbz8na_"
      },
      "source": [
        "def channel_encoder(source_encoded_data):\n",
        "    n=3\n",
        "    channel_encoded_data=np.repeat(source_encoded_data,n)\n",
        "    return channel_encoded_data\n",
        "\n",
        "channel_encoded_data=channel_encoder(source_encoded_data)\n",
        "print(channel_encoded_data)\n",
        "\n"
      ],
      "execution_count": null,
      "outputs": []
    },
    {
      "cell_type": "code",
      "metadata": {
        "id": "ZLyZWlASKrhR"
      },
      "source": [
        "n=len(channel_encoded_data)\n",
        "Tb=400                      # Time duration of each symbol\n",
        "Eb=0.01                         # Energy per bit (in BPSK energy per symbol)\n",
        "samples=200"
      ],
      "execution_count": null,
      "outputs": []
    },
    {
      "cell_type": "code",
      "metadata": {
        "id": "E-Bcyndb7Scf"
      },
      "source": [
        "# Line Coding\n",
        "\n",
        "def NRZ_polar(data):\n",
        "  pulse=[]\n",
        "  for i in data:\n",
        "    if i==1:\n",
        "      x=math.sqrt(Eb)\n",
        "    else:\n",
        "      x=-math.sqrt(Eb)\n",
        "    pulse.append(x)\n",
        "  return pulse\n",
        "\n",
        "pulse=NRZ_polar(channel_encoded_data)\n",
        "t=np.linspace(1,n*Tb,samples*len(pulse))\n",
        "rep_pulse=np.repeat(pulse,samples)\n",
        "plt.title(\"NRZ Polar Line Coding\")\n",
        "plot_graph(rep_pulse)\n"
      ],
      "execution_count": null,
      "outputs": []
    },
    {
      "cell_type": "code",
      "metadata": {
        "id": "yLM6QGJ-5p3h"
      },
      "source": [
        "basis_amp=1/math.sqrt(Tb)\n",
        "rep_basis=np.repeat(basis_amp,samples*len(pulse))\n",
        "basis_list=rep_basis.tolist()\n",
        "\n",
        "def BPSK_Transmitter(rep_basis):\n",
        "\n",
        "     S=rep_pulse*rep_basis\n",
        "     return S\n",
        "\n",
        "S=BPSK_Transmitter(rep_basis)\n",
        "plt.title(\"Basis Function\")\n",
        "plot_graph(rep_basis)\n",
        "plt.title(\"Transmitted Signal\")\n",
        "plot_graph(S)"
      ],
      "execution_count": null,
      "outputs": []
    },
    {
      "cell_type": "code",
      "metadata": {
        "id": "HQTQqCns8NMl"
      },
      "source": [
        "# AWGN channel\n",
        "\n",
        "def awgn(S,SNRdB):\n",
        " SNR_linear = 10**(SNRdB/10) \n",
        " R=[]   \n",
        " n=len(channel_encoded_data)\n",
        " no=np.array([])\n",
        " for i in range(n):\n",
        "      P=sum((abs(S[i*samples:(i+1)*samples]))**2)*(Tb/samples)\n",
        "      N0=P/SNR_linear\n",
        "      X=S[i*samples:(i+1)*samples]\n",
        "      n = sqrt(N0/2)*standard_normal(X.shape) \n",
        "      r=X+n\n",
        "      R.append(r)\n",
        "     \n",
        " Rnew=np.array(R)\n",
        " R_=Rnew.ravel()\n",
        " Rn=R_.tolist()\n",
        " return Rn\n",
        "\n",
        "R=awgn(S,0) \n",
        "plt.title(\"Received Signal with noise\")   \n",
        "plot_graph(R)"
      ],
      "execution_count": null,
      "outputs": []
    },
    {
      "cell_type": "code",
      "metadata": {
        "id": "Oilq808987Xh"
      },
      "source": [
        "def MF_receiver(R,basis_list):\n",
        "   y_Tb=[]\n",
        "   decoded_MF=[]\n",
        "   for i in range(n):\n",
        "\n",
        "      y=np.convolve(R[i*samples:(i+1)*samples],basis_list[i*samples:(i+1)*samples])\n",
        "      y_new=y[int(samples)]\n",
        "      \n",
        "      y_Tb.append(y_new)\n",
        "\n",
        "   return y_Tb\n",
        "\n",
        "\n",
        "output_MF=MF_receiver(R,basis_list)\n",
        "print(output_MF)\n",
        "\n",
        "\n"
      ],
      "execution_count": null,
      "outputs": []
    },
    {
      "cell_type": "code",
      "metadata": {
        "id": "ub9_yyesCIgt"
      },
      "source": [
        "# ML decoding\n",
        "\n",
        "def ML_decoder(y_Tb):\n",
        "   boundary=0\n",
        "   decoded=[]\n",
        "   for i in y_Tb:\n",
        "      if i>boundary:\n",
        "        d=1\n",
        "      else:\n",
        "        d=0\n",
        "      decoded.append(d)\n",
        "\n",
        "   received=np.array(decoded)\n",
        "   \n",
        "   \n",
        "   return received\n",
        "received=ML_decoder(output_MF)\n",
        "print(received)\n",
        "print(len(received))"
      ],
      "execution_count": null,
      "outputs": []
    },
    {
      "cell_type": "code",
      "metadata": {
        "id": "3Vlv9Jf1CNP0"
      },
      "source": [
        "# BER\n",
        "\n",
        "def BER(channel_encoded_data,received):\n",
        "  total=[]\n",
        "  count=0\n",
        "  for i in range(0,n):\n",
        "    if channel_encoded_data[i]==received[i]:\n",
        "        count=count+0\n",
        "    else:\n",
        "        count=count+1\n",
        "  Pe_ML_detector=count/n\n",
        "    \n",
        "  return Pe_ML_detector\n",
        "\n",
        "Pe_ML_detector=BER(channel_encoded_data,received)\n",
        "print(Pe_ML_detector)"
      ],
      "execution_count": null,
      "outputs": []
    },
    {
      "cell_type": "code",
      "metadata": {
        "id": "ilykuqnSFj8B"
      },
      "source": [
        "def channel_decoder(received):\n",
        "   element=[]\n",
        "   for i in range(0,len(received),3):\n",
        "  \n",
        "      sum=received[i]+received[i+1]+received[i+2]\n",
        "      if sum>=2:\n",
        "        el=1\n",
        "      else:\n",
        "        el=0\n",
        "      element.append(el)\n",
        "   return element\n",
        "\n",
        "element=channel_decoder(received)\n",
        "print(element)\n",
        "\n"
      ],
      "execution_count": null,
      "outputs": []
    },
    {
      "cell_type": "code",
      "metadata": {
        "id": "bdJU9uhETcLq"
      },
      "source": [
        "def source_decoder(element):\n",
        "\n",
        "   A=\" abcdefghijklmnopqrstuvwxyzABCDEFGHIJKLMNOPQRSTUVWXYZ***********\"\n",
        "   B=[[0,0,0,0,0,0],[0,0,0,0,0,1],[0,0,0,0,1,0],[0,0,0,0,1,1],[0,0,0,1,0,0],[0,0,0,1,0,1],[0,0,0,1,1,0],[0,0,0,1,1,1],[0,0,1,0,0,0],[0,0,1,0,0,1],[0,0,1,0,1,0],[0,0,1,0,1,1],[0,0,1,1,0,0],[0,0,1,1,0,1],[0,0,1,1,1,0],[0,0,1,1,1,1],[0,1,0,0,0,0],[0,1,0,0,0,1],[0,1,0,0,1,0],[0,1,0,0,1,1],[0,1,0,1,0,0],[0,1,0,1,0,1],[0,1,0,1,1,0],[0,1,0,1,1,1],[0,1,1,0,0,0],[0,1,1,0,0,1],[0,1,1,0,1,0],[0,1,1,0,1,1],[0,1,1,1,0,0],[0,1,1,1,0,1],[0,1,1,1,1,0],[0,1,1,1,1,1],[1,0,0,0,0,0],[1,0,0,0,0,1],[1,0,0,0,1,0],[1,0,0,0,1,1],[1,0,0,1,0,0],[1,0,0,1,0,1],[1,0,0,1,1,0],[1,0,0,1,1,1],[1,0,1,0,0,0],[1,0,1,0,0,1],[1,0,1,0,1,0],[1,0,1,0,1,1],[1,0,1,1,0,0],[1,0,1,1,0,1],[1,0,1,1,1,0],[1,0,1,1,1,1],[1,1,0,0,0,0],[1,1,0,0,0,1],[1,1,0,0,1,0],[1,1,0,0,1,1],[1,1,0,1,0,0],[1,1,0,1,0,1],[1,1,0,1,1,0],[1,1,0,1,1,1],[1,1,1,0,0,0],[1,1,1,0,0,1],[1,1,1,0,1,0],[1,1,1,0,1,1],[1,1,1,1,0,0],[1,1,1,1,0,1],[1,1,1,1,1,0],[1,1,1,1,1,1]]\n",
        "\n",
        "   a = np.array(element).reshape(int(len(element)/6),6)\n",
        "   final=a.tolist()\n",
        "   decode=np.array([])\n",
        "   \n",
        "\n",
        "   for i in final:\n",
        "      for j in range(len(B)):\n",
        "         if (i==B[j]):\n",
        "            de=A[j]\n",
        "            decode=np.append(decode,de)\n",
        "            \n",
        "            #out_arr = np.array_str(decode)\n",
        "   return decode\n",
        "\n",
        "decoded_final_data= source_decoder(element)\n",
        "#print(decoded_final_data)\n",
        "out=decoded_final_data.tolist()\n",
        "#print(out)\n",
        "def listToString(out): \n",
        "    str1 = \" \" \n",
        "    return (str1.join(out))\n",
        "output= listToString(out)\n",
        "print(output)\n"
      ],
      "execution_count": null,
      "outputs": []
    },
    {
      "cell_type": "code",
      "metadata": {
        "id": "uLRe9wIk90ge"
      },
      "source": [
        "def error_probability(data,decoded_final_data):\n",
        "    count=0\n",
        "    for i in range(len(data)):\n",
        "        if data[i]==decoded_final_data[i]:\n",
        "           count=count+0\n",
        "        else:\n",
        "           count=count+1\n",
        "    error_prob=count/uncompressed_size\n",
        "    return error_prob\n",
        "\n",
        "error_prob= error_probability(data,decoded_final_data)\n",
        "print(error_prob)"
      ],
      "execution_count": null,
      "outputs": []
    },
    {
      "cell_type": "code",
      "metadata": {
        "id": "HlkQTh_igz2S"
      },
      "source": [
        "SNRdB=np.arange(-15,15,1)\n",
        "BER_=np.array([])\n",
        "BER_channel_coding=np.array([])\n",
        "\n",
        "for i in SNRdB:\n",
        "  \n",
        "  R=awgn(S,i)\n",
        "  output_MF=MF_receiver(R,basis_list)\n",
        "  received=ML_decoder(output_MF)\n",
        "  Pe_ML_detector=BER(channel_encoded_data,received)\n",
        "  BER_channel_coding=np.append(BER_channel_coding,Pe_ML_detector)\n",
        "\n",
        "  element=channel_decoder(received)\n",
        "  decoded_final_data= source_decoder(element)\n",
        "  error_prob= error_probability(data,decoded_final_data)\n",
        "  BER_=np.append(BER_,error_prob)\n",
        "  \n",
        "  \n",
        "\n",
        "fig, ax = plt.subplots(nrows=1,ncols = 1)\n",
        "ax.semilogy(SNRdB,BER_,color='r',marker='',linestyle='-',label='after channel encoding')\n",
        "ax.semilogy(SNRdB,BER_channel_coding,color='g',marker='',linestyle='-',label='after BPSK modulation')\n",
        "ax.legend()\n",
        "ax.set_xlabel('$E_b/N_0(dB)$');ax.set_ylabel('BER ($P_e$)')\n",
        "ax.set_title('Probability of Bit Error vs SNR for BPSK over AWGN channel')"
      ],
      "execution_count": null,
      "outputs": []
    },
    {
      "cell_type": "code",
      "metadata": {
        "id": "PFBDPnRS-oNO"
      },
      "source": [
        "table=np.arange(-15,16,5)\n",
        "for i in table:\n",
        "  print(\"SNR in dB :\")\n",
        "  print(i)\n",
        "  R=awgn(S,i)\n",
        "  output_MF=MF_receiver(R,basis_list)\n",
        "  received=ML_decoder(output_MF)\n",
        "  Pe_ML_detector=BER(channel_encoded_data,received)\n",
        "  BER_channel_coding=np.append(BER_channel_coding,Pe_ML_detector)\n",
        "\n",
        "  element=channel_decoder(received)\n",
        "  decoded_final_data= source_decoder(element)\n",
        "  error_prob= error_probability(data,decoded_final_data)\n",
        "  BER_=np.append(BER_,error_prob)\n",
        "  print(\"Error probability:\")\n",
        "  print(error_prob)\n",
        "  print(\"\\n\")\n",
        "  \n"
      ],
      "execution_count": null,
      "outputs": []
    }
  ]
}